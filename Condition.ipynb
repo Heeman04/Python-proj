{
 "cells": [
  {
   "attachments": {},
   "cell_type": "markdown",
   "metadata": {},
   "source": [
    "# conditions\n",
    "\n",
    "# 1 if\n",
    "# 2 if else\n",
    "# 3 nested if\n",
    "# 4if elif else\n",
    "# 5match"
   ]
  },
  {
   "cell_type": "code",
   "execution_count": 3,
   "metadata": {},
   "outputs": [
    {
     "name": "stdout",
     "output_type": "stream",
     "text": [
      "You are going to run this part\n",
      "You are going to see this also\n",
      "count is even\n"
     ]
    }
   ],
   "source": [
    "count = int(input(\"enter a value:\"))\n",
    "if count > 5:\n",
    "    print(\"You are going to run this part\")\n",
    "\n",
    "if count > 15:\n",
    "    print(\"You are going to see this also\")\n",
    "    \n",
    "if count%2 == 0:\n",
    "    print(\"count is even\")\n"
   ]
  },
  {
   "attachments": {},
   "cell_type": "markdown",
   "metadata": {},
   "source": [
    "# multiple condition in and if statement"
   ]
  },
  {
   "cell_type": "code",
   "execution_count": 4,
   "metadata": {},
   "outputs": [
    {
     "name": "stdout",
     "output_type": "stream",
     "text": [
      "20 is greater\n"
     ]
    }
   ],
   "source": [
    "a = 20\n",
    "b = 15\n",
    "c = 12\n",
    "if a > b and a > c:\n",
    "    print(f'{a} is greater')\n",
    "if b > c and b > a:\n",
    "    print(f'{b} is greater')\n",
    "if c > a and c < b:\n",
    "    print(f'{c=} is greater')"
   ]
  },
  {
   "cell_type": "code",
   "execution_count": 5,
   "metadata": {},
   "outputs": [
    {
     "name": "stdout",
     "output_type": "stream",
     "text": [
      "a=20 is greater\n"
     ]
    }
   ],
   "source": [
    "if a > b and a > c:\n",
    "    print(f'{a=} is greater')\n",
    "elif b > c and b < a:\n",
    "    print(f'{b=} is greater')\n",
    "else:\n",
    "    print(f'{c=} is greater')"
   ]
  },
  {
   "cell_type": "code",
   "execution_count": 2,
   "metadata": {},
   "outputs": [
    {
     "name": "stdout",
     "output_type": "stream",
     "text": [
      "HOOOLAAAAAAA😁\n"
     ]
    }
   ],
   "source": [
    "Username = input(\"Enter your name\")\n",
    "Email = input(\"Enter your email\")\n",
    "Password = input(\"Enter your password\")\n",
    "Confirm_Password = input(\"Enter yor passs again\")\n",
    "\n",
    "if len(Username) >= 4 and len(Username) <= 10:\n",
    "    if '@' in Email and Email.islower() and len(Email) > 10:\n",
    "        if len(Password) >= 6 and Password != Username:\n",
    "            if Password == Confirm_Password:\n",
    "                print(\"HOOOLAAAAAAA😁\")\n",
    "            else:\n",
    "                print(\"Password do not match🫡\")    \n",
    "        else:\n",
    "            print(\"Password is invalid🫡\")\n",
    "    else:\n",
    "        print('Email is invalid🫡')\n",
    "else:\n",
    "    print(\"Username is invalid🫡\")"
   ]
  },
  {
   "cell_type": "code",
   "execution_count": null,
   "metadata": {},
   "outputs": [],
   "source": []
  }
 ],
 "metadata": {
  "kernelspec": {
   "display_name": "base",
   "language": "python",
   "name": "python3"
  },
  "language_info": {
   "codemirror_mode": {
    "name": "ipython",
    "version": 3
   },
   "file_extension": ".py",
   "mimetype": "text/x-python",
   "name": "python",
   "nbconvert_exporter": "python",
   "pygments_lexer": "ipython3",
   "version": "3.10.8"
  },
  "orig_nbformat": 4,
  "vscode": {
   "interpreter": {
    "hash": "6904f9d18ff41670b9cca9b617c14ba79f1354b686ef7796c70ea05fcae31d06"
   }
  }
 },
 "nbformat": 4,
 "nbformat_minor": 2
}
